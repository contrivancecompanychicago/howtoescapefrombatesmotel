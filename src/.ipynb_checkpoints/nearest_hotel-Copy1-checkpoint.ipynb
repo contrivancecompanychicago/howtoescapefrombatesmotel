{
 "cells": [
  {
   "cell_type": "markdown",
   "metadata": {},
   "source": [
    "<img src='../img/universe.jpg' style=\"float: right; height: 600px;\" alt=\"Drawing\">\n",
    "The main goal is to recommend the most similar hotel to a selected hotel. There are other ways of recommending hotels (content-based k-means clustering, for one, as introduced in another tutorial, [hotel_clustering_using_nlp](hotel_clustering_using_nlp.ipynb)). To __look up__ the most similar hotel in our __universe of hotels__, imagine your favorite hotel __lives__ on Planet A. Now when you travel to a different planet (sorry, __city__), you want to find a hotel that reminds you of your favorite on Planet A. A k-dimensional tree algorithm can help you locate that hotel in almost no time. I'll implement an __Approximate Nearest Neighbors__ search on a __7 dimenional tree__ that has been tailored to our dataset of 10,000 hotels that have been rated by over 1.04 million users on TripAdvisor.\n",
    "\n",
    "In this tutorial, I'll implement a fast search algorithm for content-based k-Nearest Neighbor model. KNN models were known for their interpretability in the early days of recommender systems. I'll define a way of measuring similarity, i.e. how similar any of the chosen two hotels are, based on their features. This similarity measure helps guide us in the __universe__ of __similar hotels__. The model compares similarity measures among hotels, to decide how __similar__ a pair of hotels are in the rating structures given by travelers. If we would like to know how __similar__ a pair of items are, kNN models would also be a very intuitive way to tell the __degree of similarity__. \n",
    "\n",
    "In statistics, the __curse of dimensionality__ has made many problems a lot harder when the dimensions increase. In a 1D space (a straight line on paper), this search problem is essential a query problem; whatever hotel located next to your favorite is the most similar one. In a 2D plane (laying out a map on table), we can draw circles centered at your favorite hotel to search for the next similar one. In a 3D world like ours, there is yet another dimension added to the previous plane, so search time increases as a result.\n",
    "\n",
    "Hotels in our model will be measured in 7 dimensions: rooms, service, cleanlines, front desk, business service, value, location; each will be given a 0 to 5 scores, where 1 - 5 are travelers' ratings. By using a k-dimensional tree, the next similar hotel will be generated automatically from the training set that we feed in to the algorithm.\n",
    "\n",
    "## Content:\n",
    "<ul>\n",
    "<li>[Data pre-processing](#Data pre-processing)\n",
    "<li>[Define distance metric](#Define distance metric)\n",
    "<li>[Train test split](#Train test split)\n",
    "<li>[Build a KD tree](#Build a KD tree)\n",
    "<li>[Search for the nearest neighbor on a KD tree](#Search for the nearest neighbor on a KD tree)\n",
    "<li>[Testing on sample](#Testing on sample)\n",
    "</ul>"
   ]
  },
  {
   "cell_type": "markdown",
   "metadata": {},
   "source": [
    "I used Python 2 to write this tutorial and implemented the following libraries:"
   ]
  },
  {
   "cell_type": "code",
   "execution_count": 41,
   "metadata": {
    "collapsed": true
   },
   "outputs": [],
   "source": [
    "import pandas as pd \n",
    "import pprint\n",
    "import numpy as np\n",
    "import sklearn.preprocessing as pp\n",
    "from numpy import linalg\n",
    "from numpy import dot\n",
    "from numpy.linalg import norm"
   ]
  },
  {
   "cell_type": "markdown",
   "metadata": {},
   "source": [
    "<a id='Data pre-processing'></a>"
   ]
  },
  {
   "cell_type": "markdown",
   "metadata": {},
   "source": [
    "## Data pre-processing"
   ]
  },
  {
   "cell_type": "markdown",
   "metadata": {},
   "source": [
    "First, we import our example dataset that I scraped and cleaned from TripAdvisor. Each hotel id is unique and represents a hotel in our databse. Ratings of rooms, service, cleanliness, front desk, business service, value, and location are mean ratings taken from travelers."
   ]
  },
  {
   "cell_type": "code",
   "execution_count": 42,
   "metadata": {},
   "outputs": [],
   "source": [
    "hotel_ratings = pd.read_csv('../data/pivot_ratings.csv')"
   ]
  },
  {
   "cell_type": "code",
   "execution_count": 43,
   "metadata": {},
   "outputs": [
    {
     "data": {
      "text/plain": [
       "(28365, 2875)"
      ]
     },
     "execution_count": 43,
     "metadata": {},
     "output_type": "execute_result"
    }
   ],
   "source": [
    "hotel_ratings.shape"
   ]
  },
  {
   "cell_type": "markdown",
   "metadata": {},
   "source": [
    "<a id='Define distance metric'></a>"
   ]
  },
  {
   "cell_type": "markdown",
   "metadata": {},
   "source": [
    "## Define distance metric"
   ]
  },
  {
   "cell_type": "markdown",
   "metadata": {},
   "source": [
    "First, we need to define a way of measuring similarity distance. We choose the Euclidean distance:"
   ]
  },
  {
   "cell_type": "code",
   "execution_count": 344,
   "metadata": {
    "collapsed": true
   },
   "outputs": [],
   "source": [
    "def cosineSimilarity(point1, point2):\n",
    "    cos_sim = dot(point1, point2)/float((norm(point1)*norm(point2)))\n",
    "    return cos_sim"
   ]
  },
  {
   "cell_type": "code",
   "execution_count": 369,
   "metadata": {
    "collapsed": true
   },
   "outputs": [],
   "source": [
    "def euc_distance(point1, point2):\n",
    "    diff = np.subtract(point1, point2)\n",
    "    dist = np.linalg.norm(diff)\n",
    "    return dist"
   ]
  },
  {
   "cell_type": "code",
   "execution_count": 45,
   "metadata": {},
   "outputs": [
    {
     "data": {
      "text/plain": [
       "(28365, 2875)"
      ]
     },
     "execution_count": 45,
     "metadata": {},
     "output_type": "execute_result"
    }
   ],
   "source": [
    "hotel_ratings.shape"
   ]
  },
  {
   "cell_type": "markdown",
   "metadata": {},
   "source": [
    "<a id='Train test split'></a>"
   ]
  },
  {
   "cell_type": "markdown",
   "metadata": {},
   "source": [
    "## Train test split"
   ]
  },
  {
   "cell_type": "code",
   "execution_count": 217,
   "metadata": {
    "collapsed": true
   },
   "outputs": [],
   "source": [
    "#design training and test set after random shuffle:\n",
    "threshold = int(0.8*hotel_ratings.shape[0])\n",
    "training = hotel_ratings[:threshold]\n",
    "test = hotel_ratings[threshold:]\n",
    "training.reset_index(inplace=True)\n",
    "test.reset_index(inplace=True)"
   ]
  },
  {
   "cell_type": "code",
   "execution_count": 218,
   "metadata": {
    "scrolled": true
   },
   "outputs": [
    {
     "name": "stderr",
     "output_type": "stream",
     "text": [
      "/Users/vkwan/anaconda2/lib/python2.7/site-packages/ipykernel_launcher.py:1: SettingWithCopyWarning: \n",
      "A value is trying to be set on a copy of a slice from a DataFrame\n",
      "\n",
      "See the caveats in the documentation: http://pandas.pydata.org/pandas-docs/stable/indexing.html#indexing-view-versus-copy\n",
      "  \"\"\"Entry point for launching an IPython kernel.\n",
      "/Users/vkwan/anaconda2/lib/python2.7/site-packages/ipykernel_launcher.py:2: SettingWithCopyWarning: \n",
      "A value is trying to be set on a copy of a slice from a DataFrame\n",
      "\n",
      "See the caveats in the documentation: http://pandas.pydata.org/pandas-docs/stable/indexing.html#indexing-view-versus-copy\n",
      "  \n"
     ]
    }
   ],
   "source": [
    "training.drop(['index', 'user'], axis=1, inplace=True)\n",
    "test.drop(['index', 'user'], axis=1, inplace=True)"
   ]
  },
  {
   "cell_type": "code",
   "execution_count": 219,
   "metadata": {},
   "outputs": [
    {
     "data": {
      "text/html": [
       "<div>\n",
       "<style>\n",
       "    .dataframe thead tr:only-child th {\n",
       "        text-align: right;\n",
       "    }\n",
       "\n",
       "    .dataframe thead th {\n",
       "        text-align: left;\n",
       "    }\n",
       "\n",
       "    .dataframe tbody tr th {\n",
       "        vertical-align: top;\n",
       "    }\n",
       "</style>\n",
       "<table border=\"1\" class=\"dataframe\">\n",
       "  <thead>\n",
       "    <tr style=\"text-align: right;\">\n",
       "      <th></th>\n",
       "      <th>72572</th>\n",
       "      <th>72586</th>\n",
       "      <th>73855</th>\n",
       "      <th>73943</th>\n",
       "      <th>73957</th>\n",
       "      <th>74626</th>\n",
       "      <th>75688</th>\n",
       "      <th>75711</th>\n",
       "      <th>76049</th>\n",
       "      <th>76061</th>\n",
       "      <th>...</th>\n",
       "      <th>2516196</th>\n",
       "      <th>2516198</th>\n",
       "      <th>2516199</th>\n",
       "      <th>2516201</th>\n",
       "      <th>2516216</th>\n",
       "      <th>2516221</th>\n",
       "      <th>2516231</th>\n",
       "      <th>2516241</th>\n",
       "      <th>2516244</th>\n",
       "      <th>2520289</th>\n",
       "    </tr>\n",
       "  </thead>\n",
       "  <tbody>\n",
       "    <tr>\n",
       "      <th>0</th>\n",
       "      <td>0.0</td>\n",
       "      <td>0.0</td>\n",
       "      <td>0.0</td>\n",
       "      <td>0.0</td>\n",
       "      <td>0.0</td>\n",
       "      <td>0.0</td>\n",
       "      <td>0.0</td>\n",
       "      <td>0.0</td>\n",
       "      <td>0.0</td>\n",
       "      <td>0.0</td>\n",
       "      <td>...</td>\n",
       "      <td>0.0</td>\n",
       "      <td>0.0</td>\n",
       "      <td>0.0</td>\n",
       "      <td>0.0</td>\n",
       "      <td>0.0</td>\n",
       "      <td>0.0</td>\n",
       "      <td>0.0</td>\n",
       "      <td>0.0</td>\n",
       "      <td>0.0</td>\n",
       "      <td>0.0</td>\n",
       "    </tr>\n",
       "    <tr>\n",
       "      <th>1</th>\n",
       "      <td>0.0</td>\n",
       "      <td>0.0</td>\n",
       "      <td>0.0</td>\n",
       "      <td>0.0</td>\n",
       "      <td>0.0</td>\n",
       "      <td>0.0</td>\n",
       "      <td>0.0</td>\n",
       "      <td>0.0</td>\n",
       "      <td>0.0</td>\n",
       "      <td>0.0</td>\n",
       "      <td>...</td>\n",
       "      <td>0.0</td>\n",
       "      <td>0.0</td>\n",
       "      <td>0.0</td>\n",
       "      <td>0.0</td>\n",
       "      <td>0.0</td>\n",
       "      <td>0.0</td>\n",
       "      <td>0.0</td>\n",
       "      <td>0.0</td>\n",
       "      <td>0.0</td>\n",
       "      <td>0.0</td>\n",
       "    </tr>\n",
       "    <tr>\n",
       "      <th>2</th>\n",
       "      <td>0.0</td>\n",
       "      <td>0.0</td>\n",
       "      <td>0.0</td>\n",
       "      <td>0.0</td>\n",
       "      <td>0.0</td>\n",
       "      <td>0.0</td>\n",
       "      <td>0.0</td>\n",
       "      <td>0.0</td>\n",
       "      <td>0.0</td>\n",
       "      <td>0.0</td>\n",
       "      <td>...</td>\n",
       "      <td>0.0</td>\n",
       "      <td>0.0</td>\n",
       "      <td>0.0</td>\n",
       "      <td>0.0</td>\n",
       "      <td>0.0</td>\n",
       "      <td>0.0</td>\n",
       "      <td>0.0</td>\n",
       "      <td>0.0</td>\n",
       "      <td>0.0</td>\n",
       "      <td>0.0</td>\n",
       "    </tr>\n",
       "    <tr>\n",
       "      <th>3</th>\n",
       "      <td>0.0</td>\n",
       "      <td>0.0</td>\n",
       "      <td>0.0</td>\n",
       "      <td>0.0</td>\n",
       "      <td>0.0</td>\n",
       "      <td>0.0</td>\n",
       "      <td>0.0</td>\n",
       "      <td>0.0</td>\n",
       "      <td>0.0</td>\n",
       "      <td>0.0</td>\n",
       "      <td>...</td>\n",
       "      <td>0.0</td>\n",
       "      <td>0.0</td>\n",
       "      <td>0.0</td>\n",
       "      <td>0.0</td>\n",
       "      <td>0.0</td>\n",
       "      <td>0.0</td>\n",
       "      <td>0.0</td>\n",
       "      <td>0.0</td>\n",
       "      <td>0.0</td>\n",
       "      <td>0.0</td>\n",
       "    </tr>\n",
       "    <tr>\n",
       "      <th>4</th>\n",
       "      <td>0.0</td>\n",
       "      <td>0.0</td>\n",
       "      <td>0.0</td>\n",
       "      <td>0.0</td>\n",
       "      <td>0.0</td>\n",
       "      <td>0.0</td>\n",
       "      <td>0.0</td>\n",
       "      <td>0.0</td>\n",
       "      <td>0.0</td>\n",
       "      <td>0.0</td>\n",
       "      <td>...</td>\n",
       "      <td>0.0</td>\n",
       "      <td>0.0</td>\n",
       "      <td>0.0</td>\n",
       "      <td>0.0</td>\n",
       "      <td>0.0</td>\n",
       "      <td>0.0</td>\n",
       "      <td>0.0</td>\n",
       "      <td>0.0</td>\n",
       "      <td>0.0</td>\n",
       "      <td>0.0</td>\n",
       "    </tr>\n",
       "  </tbody>\n",
       "</table>\n",
       "<p>5 rows × 2874 columns</p>\n",
       "</div>"
      ],
      "text/plain": [
       "   72572  72586  73855  73943  73957  74626  75688  75711  76049  76061  \\\n",
       "0    0.0    0.0    0.0    0.0    0.0    0.0    0.0    0.0    0.0    0.0   \n",
       "1    0.0    0.0    0.0    0.0    0.0    0.0    0.0    0.0    0.0    0.0   \n",
       "2    0.0    0.0    0.0    0.0    0.0    0.0    0.0    0.0    0.0    0.0   \n",
       "3    0.0    0.0    0.0    0.0    0.0    0.0    0.0    0.0    0.0    0.0   \n",
       "4    0.0    0.0    0.0    0.0    0.0    0.0    0.0    0.0    0.0    0.0   \n",
       "\n",
       "    ...     2516196  2516198  2516199  2516201  2516216  2516221  2516231  \\\n",
       "0   ...         0.0      0.0      0.0      0.0      0.0      0.0      0.0   \n",
       "1   ...         0.0      0.0      0.0      0.0      0.0      0.0      0.0   \n",
       "2   ...         0.0      0.0      0.0      0.0      0.0      0.0      0.0   \n",
       "3   ...         0.0      0.0      0.0      0.0      0.0      0.0      0.0   \n",
       "4   ...         0.0      0.0      0.0      0.0      0.0      0.0      0.0   \n",
       "\n",
       "   2516241  2516244  2520289  \n",
       "0      0.0      0.0      0.0  \n",
       "1      0.0      0.0      0.0  \n",
       "2      0.0      0.0      0.0  \n",
       "3      0.0      0.0      0.0  \n",
       "4      0.0      0.0      0.0  \n",
       "\n",
       "[5 rows x 2874 columns]"
      ]
     },
     "execution_count": 219,
     "metadata": {},
     "output_type": "execute_result"
    }
   ],
   "source": [
    "test.head()"
   ]
  },
  {
   "cell_type": "markdown",
   "metadata": {},
   "source": [
    "<a id='Build a KD tree'></a>"
   ]
  },
  {
   "cell_type": "markdown",
   "metadata": {},
   "source": [
    "## Build a KD tree"
   ]
  },
  {
   "cell_type": "markdown",
   "metadata": {},
   "source": [
    "To generate a tree structure, we define a function that takes arrays of (7-dimensional) points as input, and generates a binary search tree (BST) where each split is performed on one of the 7 dimensions, alternatively, until no more split is available.\n",
    "<img src='../img/KDTree-animation.gif' style=\"float: center; height: 400px;\" alt=\"Drawing\">\n",
    "\n",
    "(_Source_: [Wikipedia: kd tree](https://en.wikipedia.org/wiki/K-d_tree))"
   ]
  },
  {
   "cell_type": "code",
   "execution_count": 46,
   "metadata": {
    "collapsed": true
   },
   "outputs": [],
   "source": [
    "def build_kdtree(points, depth=0):\n",
    "    n = len(points)\n",
    "\n",
    "    if n <= 0:\n",
    "        return None\n",
    "    # spliting by alternating axis:\n",
    "    axis = depth % k\n",
    "\n",
    "    sorted_points = sorted(points, key=lambda point: point[axis])\n",
    "\n",
    "    return {\n",
    "        'point': sorted_points[n / 2],\n",
    "        'left': build_kdtree(sorted_points[:n / 2], depth + 1),\n",
    "        'right': build_kdtree(sorted_points[n/2 + 1:], depth + 1)\n",
    "    }"
   ]
  },
  {
   "cell_type": "code",
   "execution_count": 220,
   "metadata": {},
   "outputs": [],
   "source": [
    "# turning DataFrames into array structure:\n",
    "training_points = training.as_matrix()\n",
    "test_points = test.as_matrix()"
   ]
  },
  {
   "cell_type": "code",
   "execution_count": 323,
   "metadata": {
    "collapsed": true
   },
   "outputs": [],
   "source": [
    "col_mean_train = np.nanmean(training_points, axis=0)"
   ]
  },
  {
   "cell_type": "code",
   "execution_count": 324,
   "metadata": {
    "collapsed": true
   },
   "outputs": [],
   "source": [
    "col_mean_test = np.nanmean(test_points, axis=0)"
   ]
  },
  {
   "cell_type": "code",
   "execution_count": 339,
   "metadata": {},
   "outputs": [],
   "source": [
    "training_points[training_points == 0] = 'nan'\n",
    "test_points[test_points==0] = 'nan'"
   ]
  },
  {
   "cell_type": "code",
   "execution_count": 336,
   "metadata": {},
   "outputs": [],
   "source": [
    "inds = np.where(np.isnan(training_points))\n",
    "training_points[inds] = np.take(col_mean_train, inds[1])"
   ]
  },
  {
   "cell_type": "code",
   "execution_count": 338,
   "metadata": {},
   "outputs": [
    {
     "data": {
      "text/plain": [
       "array([[0.00017627, 0.00052882, 0.00022034, ..., 0.00048475, 0.00057289,\n",
       "        0.00039662],\n",
       "       [0.00017627, 0.00052882, 0.00022034, ..., 0.00048475, 0.00057289,\n",
       "        0.00039662],\n",
       "       [0.00017627, 0.00052882, 0.00022034, ..., 0.00048475, 0.00057289,\n",
       "        0.00039662],\n",
       "       ...,\n",
       "       [0.00017627, 0.00052882, 0.00022034, ..., 0.00048475, 0.00057289,\n",
       "        0.00039662],\n",
       "       [0.00017627, 0.00052882, 0.00022034, ..., 0.00048475, 0.00057289,\n",
       "        0.00039662],\n",
       "       [0.00017627, 0.00052882, 0.00022034, ..., 0.00048475, 0.00057289,\n",
       "        0.00039662]])"
      ]
     },
     "execution_count": 338,
     "metadata": {},
     "output_type": "execute_result"
    }
   ],
   "source": [
    "training_points"
   ]
  },
  {
   "cell_type": "code",
   "execution_count": 340,
   "metadata": {
    "collapsed": true
   },
   "outputs": [],
   "source": [
    "inds = np.where(np.isnan(test_points))\n",
    "test_points[inds] = np.take(col_mean_train, inds[1])"
   ]
  },
  {
   "cell_type": "code",
   "execution_count": 341,
   "metadata": {},
   "outputs": [
    {
     "data": {
      "text/plain": [
       "array([[0.00017627, 0.00052882, 0.00022034, ..., 0.00048475, 0.00057289,\n",
       "        0.00039662],\n",
       "       [0.00017627, 0.00052882, 0.00022034, ..., 0.00048475, 0.00057289,\n",
       "        0.00039662],\n",
       "       [0.00017627, 0.00052882, 0.00022034, ..., 0.00048475, 0.00057289,\n",
       "        0.00039662],\n",
       "       ...,\n",
       "       [0.00017627, 0.00052882, 0.00022034, ..., 0.00048475, 0.00057289,\n",
       "        0.00039662],\n",
       "       [0.00017627, 0.00052882, 0.00022034, ..., 0.00048475, 0.00057289,\n",
       "        0.00039662],\n",
       "       [0.00017627, 0.00052882, 0.00022034, ..., 0.00048475, 0.00057289,\n",
       "        0.00039662]])"
      ]
     },
     "execution_count": 341,
     "metadata": {},
     "output_type": "execute_result"
    }
   ],
   "source": [
    "test_points"
   ]
  },
  {
   "cell_type": "markdown",
   "metadata": {},
   "source": [
    "Now, we are ready to __grow__ our first tree!"
   ]
  },
  {
   "cell_type": "code",
   "execution_count": 370,
   "metadata": {
    "collapsed": true
   },
   "outputs": [],
   "source": [
    "k = 2874\n",
    "kdtree = build_kdtree(training_points)"
   ]
  },
  {
   "cell_type": "markdown",
   "metadata": {},
   "source": [
    "<a id='Search for the nearest neighbor on a KD tree'></a>"
   ]
  },
  {
   "cell_type": "markdown",
   "metadata": {},
   "source": [
    "## Search for the nearest neighbor on a KD tree"
   ]
  },
  {
   "cell_type": "markdown",
   "metadata": {},
   "source": [
    "This tree is a BST where each split is first split on dimension 'rooms', then 'service', etc. until starting from 'rooms' all over again. There is no way human brains can visualize this high dimensional space, but the basic principles are just as simple as the 2D version in the above animation.\n",
    "\n",
    "To avoid going over all branches in search of the _closest_ points, we apply an approximate version of BST search query algorithm. We first define a function that frees us up by _trimming_ half of the tree each time we detect that none of the child nodes are possible of being in the _closer_ class of our _planet_ (in the universe of hotels)..."
   ]
  },
  {
   "cell_type": "code",
   "execution_count": 371,
   "metadata": {
    "collapsed": true
   },
   "outputs": [],
   "source": [
    "# a function that decides if points 'p1' or 'p2' is closer to our 'pivot'\n",
    "def closer_point(pivot, p1, p2):\n",
    "    if p1 is None:\n",
    "        return p2\n",
    "    if p2 is None:\n",
    "        return p1\n",
    "\n",
    "    # calculate the euclidean distances\n",
    "    d1 = euc_distance(pivot, p1)\n",
    "    d2 = euc_distance(pivot, p2)\n",
    "    \n",
    "    # choose the closer point\n",
    "    if d1 < d2:\n",
    "        return p1\n",
    "    else:\n",
    "        return p2"
   ]
  },
  {
   "cell_type": "markdown",
   "metadata": {},
   "source": [
    "Next we need to search for the closest neighbors for a given point on our BST tree."
   ]
  },
  {
   "cell_type": "code",
   "execution_count": 365,
   "metadata": {
    "collapsed": true
   },
   "outputs": [],
   "source": [
    "# a function that searches for the closest neighbors based on a grown BST 'root'.\n",
    "def kdtree_closest_point(root, point, depth=0):\n",
    "    if root is None:\n",
    "        return None\n",
    "    # alternating split by axis\n",
    "    axis = depth % k\n",
    "    \n",
    "    # initiate search on two branches at the same time\n",
    "    next_branch = None\n",
    "    opposite_branch = None\n",
    "    \n",
    "    # deciding by preliminary check which branch is worth time investigating\n",
    "    if point[axis] < root['point'][axis]:\n",
    "        next_branch = root['left']\n",
    "        opposite_branch = root['right']\n",
    "    else:\n",
    "        next_branch = root['right']\n",
    "        opposite_branch = root['left']\n",
    "        \n",
    "    #initiate recursive process of finding a 'closer_distance' \n",
    "    best = closer_point(point,\n",
    "                           kdtree_closest_point(next_branch,\n",
    "                                                point,\n",
    "                                                depth + 1),\n",
    "                            root['point'])\n",
    "    \n",
    "    # update 'best' point each time a closer point is detected\n",
    "    if euc_distance(point, best) >= abs(point[axis] - root['point'][axis]):\n",
    "        best = higher_similarity(point,\n",
    "                               kdtree_closest_point(opposite_branch,\n",
    "                                                    point,\n",
    "                                                    depth + 1),\n",
    "                               best)\n",
    "    # return the closest point\n",
    "    return best"
   ]
  },
  {
   "cell_type": "markdown",
   "metadata": {},
   "source": [
    "<a id='Testing on sample'></a>"
   ]
  },
  {
   "cell_type": "markdown",
   "metadata": {},
   "source": [
    "## Testing on sample"
   ]
  },
  {
   "cell_type": "markdown",
   "metadata": {},
   "source": [
    "Let's roll up our sleeves and start __climbing__ (searching)!\n",
    "\n",
    "If I want to know which hotel is most similar to __Hotel Erwin, a Joie de Vivre hotel__ in __Los Angeles, LA__ whose hotel id is __2516007__:"
   ]
  },
  {
   "cell_type": "code",
   "execution_count": 276,
   "metadata": {},
   "outputs": [
    {
     "data": {
      "text/plain": [
       "22692"
      ]
     },
     "execution_count": 276,
     "metadata": {},
     "output_type": "execute_result"
    }
   ],
   "source": [
    "len(training_points)"
   ]
  },
  {
   "cell_type": "code",
   "execution_count": 277,
   "metadata": {},
   "outputs": [
    {
     "data": {
      "text/plain": [
       "(5673, 2874)"
      ]
     },
     "execution_count": 277,
     "metadata": {},
     "output_type": "execute_result"
    }
   ],
   "source": [
    "test_points.shape"
   ]
  },
  {
   "cell_type": "code",
   "execution_count": 357,
   "metadata": {
    "collapsed": true
   },
   "outputs": [],
   "source": [
    "test_point = test_points[20]"
   ]
  },
  {
   "cell_type": "code",
   "execution_count": 358,
   "metadata": {},
   "outputs": [
    {
     "data": {
      "text/plain": [
       "array([0.00017627, 0.00052882, 0.00022034, ..., 0.00048475, 0.00057289,\n",
       "       0.00039662])"
      ]
     },
     "execution_count": 358,
     "metadata": {},
     "output_type": "execute_result"
    }
   ],
   "source": [
    "test_point"
   ]
  },
  {
   "cell_type": "markdown",
   "metadata": {},
   "source": [
    "To find the most similar hotel in the _hotel-ratings_ datafram, we run __kdtree_closest_point__ on our entire __kdtree__, with the __test_hotel__ array as input."
   ]
  },
  {
   "cell_type": "code",
   "execution_count": 366,
   "metadata": {},
   "outputs": [
    {
     "name": "stdout",
     "output_type": "stream",
     "text": [
      "CPU times: user 3 µs, sys: 1e+03 ns, total: 4 µs\n",
      "Wall time: 6.91 µs\n"
     ]
    },
    {
     "data": {
      "text/plain": [
       "array([0.00017627, 0.00052882, 0.00022034, ..., 0.00048475, 0.00057289,\n",
       "       0.00039662])"
      ]
     },
     "execution_count": 366,
     "metadata": {},
     "output_type": "execute_result"
    }
   ],
   "source": [
    "train_point = kdtree_closest_point(kdtree, test_point)\n",
    "%time train_point"
   ]
  },
  {
   "cell_type": "code",
   "execution_count": 367,
   "metadata": {},
   "outputs": [],
   "source": [
    "output = []\n",
    "for idx, e in enumerate(training_points):\n",
    "    if (e == train_point).all():\n",
    "        output.append(idx)"
   ]
  },
  {
   "cell_type": "code",
   "execution_count": 368,
   "metadata": {},
   "outputs": [
    {
     "data": {
      "text/plain": [
       "[]"
      ]
     },
     "execution_count": 368,
     "metadata": {},
     "output_type": "execute_result"
    }
   ],
   "source": [
    "output"
   ]
  },
  {
   "cell_type": "code",
   "execution_count": 352,
   "metadata": {
    "scrolled": false
   },
   "outputs": [
    {
     "data": {
      "text/plain": [
       "Series([], Name: user, dtype: object)"
      ]
     },
     "execution_count": 352,
     "metadata": {},
     "output_type": "execute_result"
    }
   ],
   "source": [
    "hotel_ratings.iloc[output]['user']"
   ]
  },
  {
   "cell_type": "code",
   "execution_count": 353,
   "metadata": {},
   "outputs": [
    {
     "data": {
      "text/plain": [
       "2874"
      ]
     },
     "execution_count": 353,
     "metadata": {},
     "output_type": "execute_result"
    }
   ],
   "source": [
    "len(hotel_ratings.iloc[12784].as_matrix()[1:])"
   ]
  },
  {
   "cell_type": "code",
   "execution_count": 354,
   "metadata": {
    "collapsed": true
   },
   "outputs": [],
   "source": [
    "output2 = []\n",
    "for idx, e in enumerate(test_points):\n",
    "    if (e == test_point).all():\n",
    "        output2.append(idx)"
   ]
  },
  {
   "cell_type": "code",
   "execution_count": 355,
   "metadata": {},
   "outputs": [
    {
     "data": {
      "text/plain": [
       "[20]"
      ]
     },
     "execution_count": 355,
     "metadata": {},
     "output_type": "execute_result"
    }
   ],
   "source": [
    "output2"
   ]
  },
  {
   "cell_type": "code",
   "execution_count": 309,
   "metadata": {},
   "outputs": [
    {
     "data": {
      "text/html": [
       "<div>\n",
       "<style>\n",
       "    .dataframe thead tr:only-child th {\n",
       "        text-align: right;\n",
       "    }\n",
       "\n",
       "    .dataframe thead th {\n",
       "        text-align: left;\n",
       "    }\n",
       "\n",
       "    .dataframe tbody tr th {\n",
       "        vertical-align: top;\n",
       "    }\n",
       "</style>\n",
       "<table border=\"1\" class=\"dataframe\">\n",
       "  <thead>\n",
       "    <tr style=\"text-align: right;\">\n",
       "      <th></th>\n",
       "      <th>user</th>\n",
       "      <th>72572</th>\n",
       "      <th>72586</th>\n",
       "      <th>73855</th>\n",
       "      <th>73943</th>\n",
       "      <th>73957</th>\n",
       "      <th>74626</th>\n",
       "      <th>75688</th>\n",
       "      <th>75711</th>\n",
       "      <th>76049</th>\n",
       "      <th>...</th>\n",
       "      <th>2516196</th>\n",
       "      <th>2516198</th>\n",
       "      <th>2516199</th>\n",
       "      <th>2516201</th>\n",
       "      <th>2516216</th>\n",
       "      <th>2516221</th>\n",
       "      <th>2516231</th>\n",
       "      <th>2516241</th>\n",
       "      <th>2516244</th>\n",
       "      <th>2520289</th>\n",
       "    </tr>\n",
       "  </thead>\n",
       "  <tbody>\n",
       "    <tr>\n",
       "      <th>20</th>\n",
       "      <td>0xMx0</td>\n",
       "      <td>0.0</td>\n",
       "      <td>0.0</td>\n",
       "      <td>0.0</td>\n",
       "      <td>0.0</td>\n",
       "      <td>0.0</td>\n",
       "      <td>0.0</td>\n",
       "      <td>0.0</td>\n",
       "      <td>0.0</td>\n",
       "      <td>0.0</td>\n",
       "      <td>...</td>\n",
       "      <td>0.0</td>\n",
       "      <td>0.0</td>\n",
       "      <td>0.0</td>\n",
       "      <td>0.0</td>\n",
       "      <td>0.0</td>\n",
       "      <td>0.0</td>\n",
       "      <td>0.0</td>\n",
       "      <td>0.0</td>\n",
       "      <td>0.0</td>\n",
       "      <td>0.0</td>\n",
       "    </tr>\n",
       "  </tbody>\n",
       "</table>\n",
       "<p>1 rows × 2875 columns</p>\n",
       "</div>"
      ],
      "text/plain": [
       "     user  72572  72586  73855  73943  73957  74626  75688  75711  76049  \\\n",
       "20  0xMx0    0.0    0.0    0.0    0.0    0.0    0.0    0.0    0.0    0.0   \n",
       "\n",
       "     ...     2516196  2516198  2516199  2516201  2516216  2516221  2516231  \\\n",
       "20   ...         0.0      0.0      0.0      0.0      0.0      0.0      0.0   \n",
       "\n",
       "    2516241  2516244  2520289  \n",
       "20      0.0      0.0      0.0  \n",
       "\n",
       "[1 rows x 2875 columns]"
      ]
     },
     "execution_count": 309,
     "metadata": {},
     "output_type": "execute_result"
    }
   ],
   "source": [
    "hotel_ratings.iloc[output2]"
   ]
  },
  {
   "cell_type": "code",
   "execution_count": 310,
   "metadata": {},
   "outputs": [],
   "source": [
    "user_matrix = hotel_ratings.set_index('user')"
   ]
  },
  {
   "cell_type": "code",
   "execution_count": 311,
   "metadata": {},
   "outputs": [
    {
     "data": {
      "text/plain": [
       "(array([448]),)"
      ]
     },
     "execution_count": 311,
     "metadata": {},
     "output_type": "execute_result"
    }
   ],
   "source": [
    "user_matrix.loc['SwarleyBravo'].as_matrix().nonzero()"
   ]
  },
  {
   "cell_type": "code",
   "execution_count": 312,
   "metadata": {},
   "outputs": [
    {
     "data": {
      "text/plain": [
       "2.0"
      ]
     },
     "execution_count": 312,
     "metadata": {},
     "output_type": "execute_result"
    }
   ],
   "source": [
    "user_matrix.loc['0xMx0'].as_matrix()[709]"
   ]
  },
  {
   "cell_type": "code",
   "execution_count": 321,
   "metadata": {},
   "outputs": [
    {
     "data": {
      "text/plain": [
       "5.385164807134504"
      ]
     },
     "execution_count": 321,
     "metadata": {},
     "output_type": "execute_result"
    }
   ],
   "source": [
    "euc_distance(user_matrix.loc['0andriy'].as_matrix(), user_matrix.loc['09cas'].as_matrix())"
   ]
  },
  {
   "cell_type": "code",
   "execution_count": 292,
   "metadata": {
    "collapsed": true
   },
   "outputs": [],
   "source": [
    "a = np.array([1,0,1])\n",
    "b = np.array([0,2,0])"
   ]
  },
  {
   "cell_type": "code",
   "execution_count": 293,
   "metadata": {},
   "outputs": [
    {
     "data": {
      "text/plain": [
       "0.0"
      ]
     },
     "execution_count": 293,
     "metadata": {},
     "output_type": "execute_result"
    }
   ],
   "source": [
    "cosineSimilarity(a,b)"
   ]
  },
  {
   "cell_type": "markdown",
   "metadata": {},
   "source": [
    "We evaluate this recommendation by calculating the RMSE (the Root Mean Squared Error) to see how far off our recommended hotel's rating structure is from our favorite."
   ]
  },
  {
   "cell_type": "code",
   "execution_count": 294,
   "metadata": {
    "collapsed": true
   },
   "outputs": [],
   "source": [
    "def rmse(rec, test):\n",
    "    return np.sqrt(np.linalg.norm((rec - test))/7.0)"
   ]
  },
  {
   "cell_type": "code",
   "execution_count": 23,
   "metadata": {},
   "outputs": [
    {
     "data": {
      "text/plain": [
       "0.4860846722988549"
      ]
     },
     "execution_count": 23,
     "metadata": {},
     "output_type": "execute_result"
    }
   ],
   "source": [
    "rmse(rec_hotel, test_hotel)"
   ]
  },
  {
   "cell_type": "markdown",
   "metadata": {
    "collapsed": true
   },
   "source": [
    "<img src='../img/radar.png' style=\"float: right; height: 400px;\" alt=\"Drawing\">\n",
    "From over thousands of hotels, we have found a hotel (__Hotel Gansevoort__) that has been rate as highly on _value_, _cleanliness_, and _location_ almost same as our _favorite_ hotel, __Hotel Erwin, a Joie de Vivre hotel__. It took us only 10 microseconds wall time, instead of possibly hours of waiting for pairwise computation of similarities. Pairwise computing also eats up most of pc's memory and will cause memory error in python kernels.\n",
    "\n",
    "__Next Steps__:\n",
    "1. Use heapmax to get k nearest neighbors, say, 5 most similar hotels based on the 7 dimensions.\n",
    "2. Optimize hyper-parameter k by running grid search and cross validation, evaluated by RMSE.\n",
    "3. Can run this on subsets of hotels that are in the same zipcode."
   ]
  }
 ],
 "metadata": {
  "kernelspec": {
   "display_name": "Python 2",
   "language": "python",
   "name": "python2"
  },
  "language_info": {
   "codemirror_mode": {
    "name": "ipython",
    "version": 2
   },
   "file_extension": ".py",
   "mimetype": "text/x-python",
   "name": "python",
   "nbconvert_exporter": "python",
   "pygments_lexer": "ipython2",
   "version": "2.7.14"
  }
 },
 "nbformat": 4,
 "nbformat_minor": 2
}
