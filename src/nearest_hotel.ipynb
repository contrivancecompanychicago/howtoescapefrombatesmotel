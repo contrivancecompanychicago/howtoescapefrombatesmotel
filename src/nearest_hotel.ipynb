{
 "cells": [
  {
   "cell_type": "markdown",
   "metadata": {},
   "source": [
    "<img src='../img/universe.jpg' style=\"float: right; height: 600px;\" alt=\"Drawing\">\n",
    "The main goal is to recommend the most similar hotel to a selected hotel. There are other ways of recommending hotels (content-based k-means clustering, for one, as introduced in another tutorial, [hotel_clustering_using_nlp](hotel_clustering_using_nlp.ipynb)). To __look up__ the most similar hotel in our __universe of hotels__, imagine your favorite hotel __lives__ on Planet A. Now when you travel to a different planet (sorry, __city__), you want to find a hotel that reminds you of your favorite on Planet A. A k-dimensional tree algorithm can help you locate that hotel in almost no time. I'll implement an __Approximate Nearest Neighbors__ search on a __7 dimenional tree__ that has been tailored to our dataset of 10,000 hotels that have been rated by over 1.04 million users on TripAdvisor.\n",
    "\n",
    "In this tutorial, I'll implement a fast search algorithm for content-based k-Nearest Neighbor model. KNN models were known for their interpretability in the early days of recommender systems. I'll define a way of measuring similarity, i.e. how similar any of the chosen two hotels are, based on their features. This similarity measure helps guide us in the __universe__ of __similar hotels__. The model compares similarity measures among hotels, to decide how __similar__ a pair of hotels are in the rating structures given by travelers. If we would like to know how __similar__ a pair of items are, kNN models would also be a very intuitive way to tell the __degree of similarity__. \n",
    "\n",
    "In statistics, the __curse of dimensionality__ has made many problems a lot harder when the dimensions increase. In a 1D space (a straight line on paper), this search problem is essential a query problem; whatever hotel located next to your favorite is the most similar one. In a 2D plane (laying out a map on table), we can draw circles centered at your favorite hotel to search for the next similar one. In a 3D world like ours, there is yet another dimension added to the previous plane, so search time increases as a result.\n",
    "\n",
    "Hotels in our model will be measured in 7 dimensions: rooms, service, cleanlines, front desk, business service, value, location; each will be given a 0 to 5 scores, where 1 - 5 are travelers' ratings. By using a k-dimensional tree, the next similar hotel will be generated automatically from the training set that we feed in to the algorithm.\n",
    "\n",
    "## Content:\n",
    "<ul>\n",
    "<li>[Data pre-processing](#Data pre-processing)\n",
    "<li>[Define distance metric](#Define distance metric)\n",
    "<li>[Train test split](#Train test split)\n",
    "<li>[Build a KD tree](#Build a KD tree)\n",
    "<li>[Search for the nearest neighbor on a KD tree](#Search for the nearest neighbor on a KD tree)\n",
    "<li>[Testing on sample](#Testing on sample)\n",
    "</ul>"
   ]
  },
  {
   "cell_type": "markdown",
   "metadata": {},
   "source": [
    "I used Python 2 to write this tutorial and implemented the following libraries:"
   ]
  },
  {
   "cell_type": "code",
   "execution_count": 1,
   "metadata": {
    "collapsed": true
   },
   "outputs": [],
   "source": [
    "import pandas as pd \n",
    "import pprint\n",
    "import numpy as np\n",
    "import sklearn.preprocessing as pp\n",
    "from numpy import linalg"
   ]
  },
  {
   "cell_type": "markdown",
   "metadata": {},
   "source": [
    "<a id='Data pre-processing'></a>"
   ]
  },
  {
   "cell_type": "markdown",
   "metadata": {},
   "source": [
    "## Data pre-processing"
   ]
  },
  {
   "cell_type": "markdown",
   "metadata": {},
   "source": [
    "First, we import our example dataset that I scraped and cleaned from TripAdvisor. Each hotel id is unique and represents a hotel in our databse. Ratings of rooms, service, cleanliness, front desk, business service, value, and location are mean ratings taken from travelers."
   ]
  },
  {
   "cell_type": "code",
   "execution_count": 2,
   "metadata": {},
   "outputs": [
    {
     "data": {
      "text/html": [
       "<div>\n",
       "<style>\n",
       "    .dataframe thead tr:only-child th {\n",
       "        text-align: right;\n",
       "    }\n",
       "\n",
       "    .dataframe thead th {\n",
       "        text-align: left;\n",
       "    }\n",
       "\n",
       "    .dataframe tbody tr th {\n",
       "        vertical-align: top;\n",
       "    }\n",
       "</style>\n",
       "<table border=\"1\" class=\"dataframe\">\n",
       "  <thead>\n",
       "    <tr style=\"text-align: right;\">\n",
       "      <th></th>\n",
       "      <th>hotel id</th>\n",
       "      <th>rooms</th>\n",
       "      <th>service</th>\n",
       "      <th>cleanliness</th>\n",
       "      <th>front desk</th>\n",
       "      <th>business service</th>\n",
       "      <th>value</th>\n",
       "      <th>location</th>\n",
       "      <th>hotel name</th>\n",
       "      <th>city</th>\n",
       "      <th>state</th>\n",
       "      <th>zip code</th>\n",
       "      <th>low price</th>\n",
       "      <th>high price</th>\n",
       "    </tr>\n",
       "  </thead>\n",
       "  <tbody>\n",
       "    <tr>\n",
       "      <th>0</th>\n",
       "      <td>72572</td>\n",
       "      <td>3.644444</td>\n",
       "      <td>4.275556</td>\n",
       "      <td>4.368889</td>\n",
       "      <td>0.760000</td>\n",
       "      <td>0.560000</td>\n",
       "      <td>4.080000</td>\n",
       "      <td>3.822222</td>\n",
       "      <td>BEST WESTERN PLUS Pioneer Square Hotel</td>\n",
       "      <td>Seattle</td>\n",
       "      <td>WA 98104-2530</td>\n",
       "      <td>98104-2530</td>\n",
       "      <td>$117</td>\n",
       "      <td>$189</td>\n",
       "    </tr>\n",
       "    <tr>\n",
       "      <th>1</th>\n",
       "      <td>72586</td>\n",
       "      <td>3.130769</td>\n",
       "      <td>3.838462</td>\n",
       "      <td>3.761538</td>\n",
       "      <td>0.553846</td>\n",
       "      <td>0.423077</td>\n",
       "      <td>3.792308</td>\n",
       "      <td>3.615385</td>\n",
       "      <td>BEST WESTERN PLUS Executive Inn</td>\n",
       "      <td>Seattle</td>\n",
       "      <td>WA 98109-5016</td>\n",
       "      <td>98109-5016</td>\n",
       "      <td>$115</td>\n",
       "      <td>$229</td>\n",
       "    </tr>\n",
       "    <tr>\n",
       "      <th>2</th>\n",
       "      <td>73855</td>\n",
       "      <td>3.337423</td>\n",
       "      <td>3.607362</td>\n",
       "      <td>3.950920</td>\n",
       "      <td>0.699387</td>\n",
       "      <td>0.257669</td>\n",
       "      <td>3.251534</td>\n",
       "      <td>3.736196</td>\n",
       "      <td>Hyatt Regency Phoenix</td>\n",
       "      <td>Phoenix</td>\n",
       "      <td>AZ 85004</td>\n",
       "      <td>85004</td>\n",
       "      <td>$132</td>\n",
       "      <td>$271</td>\n",
       "    </tr>\n",
       "    <tr>\n",
       "      <th>3</th>\n",
       "      <td>73943</td>\n",
       "      <td>3.677852</td>\n",
       "      <td>4.453020</td>\n",
       "      <td>4.442953</td>\n",
       "      <td>1.030201</td>\n",
       "      <td>0.637584</td>\n",
       "      <td>4.036913</td>\n",
       "      <td>3.637584</td>\n",
       "      <td>Royal Palms Resort and Spa</td>\n",
       "      <td>Phoenix</td>\n",
       "      <td>AZ 85018</td>\n",
       "      <td>85018</td>\n",
       "      <td>$182</td>\n",
       "      <td>$501</td>\n",
       "    </tr>\n",
       "    <tr>\n",
       "      <th>4</th>\n",
       "      <td>73947</td>\n",
       "      <td>3.207792</td>\n",
       "      <td>4.110390</td>\n",
       "      <td>4.019481</td>\n",
       "      <td>0.305195</td>\n",
       "      <td>0.194805</td>\n",
       "      <td>3.909091</td>\n",
       "      <td>3.396104</td>\n",
       "      <td>Sheraton Crescent Hotel</td>\n",
       "      <td>Phoenix</td>\n",
       "      <td>AZ 85021</td>\n",
       "      <td>85021</td>\n",
       "      <td>$90</td>\n",
       "      <td>$172</td>\n",
       "    </tr>\n",
       "  </tbody>\n",
       "</table>\n",
       "</div>"
      ],
      "text/plain": [
       "   hotel id     rooms   service  cleanliness  front desk  business service  \\\n",
       "0     72572  3.644444  4.275556     4.368889    0.760000          0.560000   \n",
       "1     72586  3.130769  3.838462     3.761538    0.553846          0.423077   \n",
       "2     73855  3.337423  3.607362     3.950920    0.699387          0.257669   \n",
       "3     73943  3.677852  4.453020     4.442953    1.030201          0.637584   \n",
       "4     73947  3.207792  4.110390     4.019481    0.305195          0.194805   \n",
       "\n",
       "      value  location                              hotel name     city  \\\n",
       "0  4.080000  3.822222  BEST WESTERN PLUS Pioneer Square Hotel  Seattle   \n",
       "1  3.792308  3.615385         BEST WESTERN PLUS Executive Inn  Seattle   \n",
       "2  3.251534  3.736196                   Hyatt Regency Phoenix  Phoenix   \n",
       "3  4.036913  3.637584              Royal Palms Resort and Spa  Phoenix   \n",
       "4  3.909091  3.396104                 Sheraton Crescent Hotel  Phoenix   \n",
       "\n",
       "           state    zip code low price high price  \n",
       "0  WA 98104-2530  98104-2530      $117       $189  \n",
       "1  WA 98109-5016  98109-5016      $115       $229  \n",
       "2       AZ 85004       85004      $132       $271  \n",
       "3       AZ 85018       85018      $182       $501  \n",
       "4       AZ 85021       85021       $90       $172  "
      ]
     },
     "execution_count": 2,
     "metadata": {},
     "output_type": "execute_result"
    }
   ],
   "source": [
    "hotel_ratings = pd.read_csv('../../dataset/nearest_neighbors_hotel.csv')\n",
    "hotel_ratings.head()"
   ]
  },
  {
   "cell_type": "markdown",
   "metadata": {},
   "source": [
    "<a id='Define distance metric'></a>"
   ]
  },
  {
   "cell_type": "markdown",
   "metadata": {},
   "source": [
    "## Define distance metric"
   ]
  },
  {
   "cell_type": "markdown",
   "metadata": {},
   "source": [
    "First, we need to define a way of measuring similarity distance. We choose the Euclidean distance:"
   ]
  },
  {
   "cell_type": "code",
   "execution_count": 3,
   "metadata": {
    "collapsed": true
   },
   "outputs": [],
   "source": [
    "def euc_distance(point1, point2):\n",
    "    diff = np.subtract(point1, point2)\n",
    "    dist = np.linalg.norm(diff)\n",
    "    return dist"
   ]
  },
  {
   "cell_type": "code",
   "execution_count": 4,
   "metadata": {
    "scrolled": true
   },
   "outputs": [
    {
     "data": {
      "text/html": [
       "<div>\n",
       "<style>\n",
       "    .dataframe thead tr:only-child th {\n",
       "        text-align: right;\n",
       "    }\n",
       "\n",
       "    .dataframe thead th {\n",
       "        text-align: left;\n",
       "    }\n",
       "\n",
       "    .dataframe tbody tr th {\n",
       "        vertical-align: top;\n",
       "    }\n",
       "</style>\n",
       "<table border=\"1\" class=\"dataframe\">\n",
       "  <thead>\n",
       "    <tr style=\"text-align: right;\">\n",
       "      <th></th>\n",
       "      <th>hotel id</th>\n",
       "      <th>rooms</th>\n",
       "      <th>service</th>\n",
       "      <th>cleanliness</th>\n",
       "      <th>front desk</th>\n",
       "      <th>business service</th>\n",
       "      <th>value</th>\n",
       "      <th>location</th>\n",
       "      <th>hotel name</th>\n",
       "      <th>city</th>\n",
       "      <th>state</th>\n",
       "      <th>zip code</th>\n",
       "      <th>low price</th>\n",
       "      <th>high price</th>\n",
       "    </tr>\n",
       "  </thead>\n",
       "  <tbody>\n",
       "    <tr>\n",
       "      <th>2091</th>\n",
       "      <td>2514372</td>\n",
       "      <td>2.682869</td>\n",
       "      <td>3.035060</td>\n",
       "      <td>3.247012</td>\n",
       "      <td>0.864542</td>\n",
       "      <td>0.380080</td>\n",
       "      <td>3.146614</td>\n",
       "      <td>3.548207</td>\n",
       "      <td>The Roosevelt Hotel</td>\n",
       "      <td>New York City</td>\n",
       "      <td>NY 10017</td>\n",
       "      <td>10017</td>\n",
       "      <td>$249</td>\n",
       "      <td>$458</td>\n",
       "    </tr>\n",
       "    <tr>\n",
       "      <th>1354</th>\n",
       "      <td>278205</td>\n",
       "      <td>3.496970</td>\n",
       "      <td>3.878788</td>\n",
       "      <td>4.175758</td>\n",
       "      <td>1.587879</td>\n",
       "      <td>0.375758</td>\n",
       "      <td>3.769697</td>\n",
       "      <td>4.018182</td>\n",
       "      <td>Villa Igea</td>\n",
       "      <td>30122 Venice</td>\n",
       "      <td>Italy</td>\n",
       "      <td>30122</td>\n",
       "      <td>$146</td>\n",
       "      <td>$313</td>\n",
       "    </tr>\n",
       "    <tr>\n",
       "      <th>991</th>\n",
       "      <td>228507</td>\n",
       "      <td>2.834483</td>\n",
       "      <td>3.303448</td>\n",
       "      <td>3.551724</td>\n",
       "      <td>1.158621</td>\n",
       "      <td>0.675862</td>\n",
       "      <td>3.248276</td>\n",
       "      <td>2.965517</td>\n",
       "      <td>Barcelo Sants</td>\n",
       "      <td>08014 Barcelona</td>\n",
       "      <td>Spain</td>\n",
       "      <td>08014</td>\n",
       "      <td>$127</td>\n",
       "      <td>$183</td>\n",
       "    </tr>\n",
       "    <tr>\n",
       "      <th>1435</th>\n",
       "      <td>295198</td>\n",
       "      <td>3.513208</td>\n",
       "      <td>4.135849</td>\n",
       "      <td>4.200000</td>\n",
       "      <td>1.890566</td>\n",
       "      <td>1.196226</td>\n",
       "      <td>3.890566</td>\n",
       "      <td>3.947170</td>\n",
       "      <td>Hotel Sari Konak</td>\n",
       "      <td>Istanbul 34400</td>\n",
       "      <td>Turkey</td>\n",
       "      <td>34400</td>\n",
       "      <td>$130</td>\n",
       "      <td>$374</td>\n",
       "    </tr>\n",
       "    <tr>\n",
       "      <th>740</th>\n",
       "      <td>193098</td>\n",
       "      <td>2.146691</td>\n",
       "      <td>2.677996</td>\n",
       "      <td>2.797853</td>\n",
       "      <td>0.771020</td>\n",
       "      <td>0.338104</td>\n",
       "      <td>2.352415</td>\n",
       "      <td>2.080501</td>\n",
       "      <td>Thistle City Barbican</td>\n",
       "      <td>London EC1V 8DS</td>\n",
       "      <td>England</td>\n",
       "      <td>EC1V 8DS</td>\n",
       "      <td>$143</td>\n",
       "      <td>$1,570</td>\n",
       "    </tr>\n",
       "  </tbody>\n",
       "</table>\n",
       "</div>"
      ],
      "text/plain": [
       "      hotel id     rooms   service  cleanliness  front desk  business service  \\\n",
       "2091   2514372  2.682869  3.035060     3.247012    0.864542          0.380080   \n",
       "1354    278205  3.496970  3.878788     4.175758    1.587879          0.375758   \n",
       "991     228507  2.834483  3.303448     3.551724    1.158621          0.675862   \n",
       "1435    295198  3.513208  4.135849     4.200000    1.890566          1.196226   \n",
       "740     193098  2.146691  2.677996     2.797853    0.771020          0.338104   \n",
       "\n",
       "         value  location             hotel name             city     state  \\\n",
       "2091  3.146614  3.548207    The Roosevelt Hotel    New York City  NY 10017   \n",
       "1354  3.769697  4.018182             Villa Igea     30122 Venice     Italy   \n",
       "991   3.248276  2.965517          Barcelo Sants  08014 Barcelona     Spain   \n",
       "1435  3.890566  3.947170       Hotel Sari Konak   Istanbul 34400    Turkey   \n",
       "740   2.352415  2.080501  Thistle City Barbican  London EC1V 8DS   England   \n",
       "\n",
       "      zip code low price high price  \n",
       "2091     10017      $249       $458  \n",
       "1354     30122      $146       $313  \n",
       "991      08014      $127       $183  \n",
       "1435     34400      $130       $374  \n",
       "740   EC1V 8DS      $143     $1,570  "
      ]
     },
     "execution_count": 4,
     "metadata": {},
     "output_type": "execute_result"
    }
   ],
   "source": [
    "# we pick the first 3000 hotels to illustrate an application of our algorithm.\n",
    "# randomly shuffle rows\n",
    "hotel_ratings = hotel_ratings.sample(frac=1)\n",
    "hotel_ratings.head()"
   ]
  },
  {
   "cell_type": "markdown",
   "metadata": {},
   "source": [
    "<a id='Train test split'></a>"
   ]
  },
  {
   "cell_type": "markdown",
   "metadata": {},
   "source": [
    "## Train test split"
   ]
  },
  {
   "cell_type": "code",
   "execution_count": 5,
   "metadata": {},
   "outputs": [
    {
     "data": {
      "text/html": [
       "<div>\n",
       "<style>\n",
       "    .dataframe thead tr:only-child th {\n",
       "        text-align: right;\n",
       "    }\n",
       "\n",
       "    .dataframe thead th {\n",
       "        text-align: left;\n",
       "    }\n",
       "\n",
       "    .dataframe tbody tr th {\n",
       "        vertical-align: top;\n",
       "    }\n",
       "</style>\n",
       "<table border=\"1\" class=\"dataframe\">\n",
       "  <thead>\n",
       "    <tr style=\"text-align: right;\">\n",
       "      <th></th>\n",
       "      <th>rooms</th>\n",
       "      <th>service</th>\n",
       "      <th>cleanliness</th>\n",
       "      <th>front desk</th>\n",
       "      <th>business service</th>\n",
       "      <th>value</th>\n",
       "      <th>location</th>\n",
       "    </tr>\n",
       "  </thead>\n",
       "  <tbody>\n",
       "    <tr>\n",
       "      <th>0</th>\n",
       "      <td>2.682869</td>\n",
       "      <td>3.035060</td>\n",
       "      <td>3.247012</td>\n",
       "      <td>0.864542</td>\n",
       "      <td>0.380080</td>\n",
       "      <td>3.146614</td>\n",
       "      <td>3.548207</td>\n",
       "    </tr>\n",
       "    <tr>\n",
       "      <th>1</th>\n",
       "      <td>3.496970</td>\n",
       "      <td>3.878788</td>\n",
       "      <td>4.175758</td>\n",
       "      <td>1.587879</td>\n",
       "      <td>0.375758</td>\n",
       "      <td>3.769697</td>\n",
       "      <td>4.018182</td>\n",
       "    </tr>\n",
       "    <tr>\n",
       "      <th>2</th>\n",
       "      <td>2.834483</td>\n",
       "      <td>3.303448</td>\n",
       "      <td>3.551724</td>\n",
       "      <td>1.158621</td>\n",
       "      <td>0.675862</td>\n",
       "      <td>3.248276</td>\n",
       "      <td>2.965517</td>\n",
       "    </tr>\n",
       "    <tr>\n",
       "      <th>3</th>\n",
       "      <td>3.513208</td>\n",
       "      <td>4.135849</td>\n",
       "      <td>4.200000</td>\n",
       "      <td>1.890566</td>\n",
       "      <td>1.196226</td>\n",
       "      <td>3.890566</td>\n",
       "      <td>3.947170</td>\n",
       "    </tr>\n",
       "    <tr>\n",
       "      <th>4</th>\n",
       "      <td>2.146691</td>\n",
       "      <td>2.677996</td>\n",
       "      <td>2.797853</td>\n",
       "      <td>0.771020</td>\n",
       "      <td>0.338104</td>\n",
       "      <td>2.352415</td>\n",
       "      <td>2.080501</td>\n",
       "    </tr>\n",
       "  </tbody>\n",
       "</table>\n",
       "</div>"
      ],
      "text/plain": [
       "      rooms   service  cleanliness  front desk  business service     value  \\\n",
       "0  2.682869  3.035060     3.247012    0.864542          0.380080  3.146614   \n",
       "1  3.496970  3.878788     4.175758    1.587879          0.375758  3.769697   \n",
       "2  2.834483  3.303448     3.551724    1.158621          0.675862  3.248276   \n",
       "3  3.513208  4.135849     4.200000    1.890566          1.196226  3.890566   \n",
       "4  2.146691  2.677996     2.797853    0.771020          0.338104  2.352415   \n",
       "\n",
       "   location  \n",
       "0  3.548207  \n",
       "1  4.018182  \n",
       "2  2.965517  \n",
       "3  3.947170  \n",
       "4  2.080501  "
      ]
     },
     "execution_count": 5,
     "metadata": {},
     "output_type": "execute_result"
    }
   ],
   "source": [
    "#design training and test set after random shuffle:\n",
    "training = hotel_ratings[:2000]\n",
    "test = hotel_ratings[2000:]\n",
    "training.reset_index(inplace=True)\n",
    "test.reset_index(inplace=True)\n",
    "training = training[['rooms', 'service', 'cleanliness', 'front desk', 'business service', 'value', 'location']]\n",
    "test = test[['rooms', 'service', 'cleanliness', 'front desk', 'business service', 'value', 'location']]\n",
    "training.head()"
   ]
  },
  {
   "cell_type": "markdown",
   "metadata": {},
   "source": [
    "<a id='Build a KD tree'></a>"
   ]
  },
  {
   "cell_type": "markdown",
   "metadata": {},
   "source": [
    "## Build a KD tree"
   ]
  },
  {
   "cell_type": "markdown",
   "metadata": {},
   "source": [
    "To generate a tree structure, we define a function that takes arrays of (7-dimensional) points as input, and generates a binary search tree (BST) where each split is performed on one of the 7 dimensions, alternatively, until no more split is available.\n",
    "<img src='../img/KDTree-animation.gif' style=\"float: center; height: 400px;\" alt=\"Drawing\">\n",
    "\n",
    "(_Source_: [Wikipedia: kd tree](https://en.wikipedia.org/wiki/K-d_tree))"
   ]
  },
  {
   "cell_type": "code",
   "execution_count": 6,
   "metadata": {
    "collapsed": true
   },
   "outputs": [],
   "source": [
    "def build_kdtree(points, depth=0):\n",
    "    n = len(points)\n",
    "\n",
    "    if n <= 0:\n",
    "        return None\n",
    "    # spliting by alternating axis:\n",
    "    axis = depth % k\n",
    "\n",
    "    sorted_points = sorted(points, key=lambda point: point[axis])\n",
    "\n",
    "    return {\n",
    "        'point': sorted_points[n / 2],\n",
    "        'left': build_kdtree(sorted_points[:n / 2], depth + 1),\n",
    "        'right': build_kdtree(sorted_points[n/2 + 1:], depth + 1)\n",
    "    }"
   ]
  },
  {
   "cell_type": "code",
   "execution_count": 7,
   "metadata": {
    "collapsed": true
   },
   "outputs": [],
   "source": [
    "# turning DataFrames into array structure:\n",
    "training_points = training.as_matrix()\n",
    "test_points = test.as_matrix()"
   ]
  },
  {
   "cell_type": "markdown",
   "metadata": {},
   "source": [
    "Now, we are ready to __grow__ our first tree!"
   ]
  },
  {
   "cell_type": "code",
   "execution_count": 8,
   "metadata": {
    "collapsed": true
   },
   "outputs": [],
   "source": [
    "k = 7\n",
    "kdtree = build_kdtree(training_points)"
   ]
  },
  {
   "cell_type": "markdown",
   "metadata": {},
   "source": [
    "An example of what the tree looks like:"
   ]
  },
  {
   "cell_type": "code",
   "execution_count": 9,
   "metadata": {},
   "outputs": [
    {
     "name": "stdout",
     "output_type": "stream",
     "text": [
      "{   'left': {   'left': {   'left': None,\n",
      "                            'point': array([1.39877301, 1.6993865 , 1.84662577, 0.16564417, 0.07361963,\n",
      "       1.89570552, 2.19631902]),\n",
      "                            'right': None},\n",
      "                'point': array([1.60493827, 1.83950617, 1.98148148, 0.66666667, 0.2345679 ,\n",
      "       1.95061728, 2.72222222]),\n",
      "                'right': {   'left': None,\n",
      "                             'point': array([1.92322097, 2.32209738, 2.4494382 , 0.52996255, 0.17602996,\n",
      "       2.64419476, 2.71348315]),\n",
      "                             'right': None}},\n",
      "    'point': array([1.8404908 , 2.33128834, 2.14110429, 0.25153374, 0.09815951,\n",
      "       2.39263804, 1.73619632]),\n",
      "    'right': {   'left': {   'left': None,\n",
      "                             'point': array([1.85628743, 2.41916168, 2.25748503, 0.26347305, 0.08982036,\n",
      "       2.50299401, 1.89221557]),\n",
      "                             'right': None},\n",
      "                 'point': array([1.84587814, 2.38351254, 2.73835125, 0.        , 0.        ,\n",
      "       2.20430108, 3.13620072]),\n",
      "                 'right': {   'left': None,\n",
      "                              'point': array([1.92156863, 2.76862745, 2.89019608, 0.41568627, 0.19607843,\n",
      "       2.83529412, 3.21960784]),\n",
      "                              'right': None}}}\n"
     ]
    }
   ],
   "source": [
    "ppr = pprint.PrettyPrinter(indent=4)\n",
    "ppr.pprint(kdtree['left']['left']['left']['left']['left']['left']['left']['left'])"
   ]
  },
  {
   "cell_type": "markdown",
   "metadata": {},
   "source": [
    "<a id='Search for the nearest neighbor on a KD tree'></a>"
   ]
  },
  {
   "cell_type": "markdown",
   "metadata": {},
   "source": [
    "## Search for the nearest neighbor on a KD tree"
   ]
  },
  {
   "cell_type": "markdown",
   "metadata": {},
   "source": [
    "This tree is a BST where each split is first split on dimension 'rooms', then 'service', etc. until starting from 'rooms' all over again. There is no way human brains can visualize this high dimensional space, but the basic principles are just as simple as the 2D version in the above animation.\n",
    "\n",
    "To avoid going over all branches in search of the _closest_ points, we apply an approximate version of BST search query algorithm. We first define a function that frees us up by _trimming_ half of the tree each time we detect that none of the child nodes are possible of being in the _closer_ class of our _planet_ (in the universe of hotels)..."
   ]
  },
  {
   "cell_type": "code",
   "execution_count": 10,
   "metadata": {
    "collapsed": true
   },
   "outputs": [],
   "source": [
    "# a function that decides if points 'p1' or 'p2' is closer to our 'pivot'\n",
    "def closer_distance(pivot, p1, p2):\n",
    "    if p1 is None:\n",
    "        return p2\n",
    "    if p2 is None:\n",
    "        return p1\n",
    "\n",
    "    # calculate the euclidean distances\n",
    "    d1 = euc_distance(pivot, p1)\n",
    "    d2 = euc_distance(pivot, p2)\n",
    "    \n",
    "    # choose the closer point\n",
    "    if d1 < d2:\n",
    "        return p1\n",
    "    else:\n",
    "        return p2"
   ]
  },
  {
   "cell_type": "markdown",
   "metadata": {},
   "source": [
    "Next we need to search for the closest neighbors for a given point on our BST tree."
   ]
  },
  {
   "cell_type": "code",
   "execution_count": 11,
   "metadata": {
    "collapsed": true
   },
   "outputs": [],
   "source": [
    "# a function that searches for the closest neighbors based on a grown BST 'root'.\n",
    "def kdtree_closest_point(root, point, depth=0):\n",
    "    if root is None:\n",
    "        return None\n",
    "    # alternating split by axis\n",
    "    axis = depth % k\n",
    "    \n",
    "    # initiate search on two branches at the same time\n",
    "    next_branch = None\n",
    "    opposite_branch = None\n",
    "    \n",
    "    # deciding by preliminary check which branch is worth time investigating\n",
    "    if point[axis] < root['point'][axis]:\n",
    "        next_branch = root['left']\n",
    "        opposite_branch = root['right']\n",
    "    else:\n",
    "        next_branch = root['right']\n",
    "        opposite_branch = root['left']\n",
    "        \n",
    "    #initiate recursive process of finding a 'closer_distance' \n",
    "    best = closer_distance(point,\n",
    "                           kdtree_closest_point(next_branch,\n",
    "                                                point,\n",
    "                                                depth + 1),\n",
    "                            root['point'])\n",
    "    \n",
    "    # update 'best' point each time a closer point is detected\n",
    "    if euc_distance(point, best) > abs(point[axis] - root['point'][axis]):\n",
    "        best = closer_distance(point,\n",
    "                               kdtree_closest_point(opposite_branch,\n",
    "                                                    point,\n",
    "                                                    depth + 1),\n",
    "                               best)\n",
    "    # return the closest point\n",
    "    return best"
   ]
  },
  {
   "cell_type": "markdown",
   "metadata": {},
   "source": [
    "<a id='Testing on sample'></a>"
   ]
  },
  {
   "cell_type": "markdown",
   "metadata": {},
   "source": [
    "## Testing on sample"
   ]
  },
  {
   "cell_type": "markdown",
   "metadata": {},
   "source": [
    "Let's roll up our sleeves and start __climbing__ (searching)!\n",
    "\n",
    "If I want to know which hotel is most similar to __Hotel Erwin, a Joie de Vivre hotel__ in __Los Angeles, LA__ whose hotel id is __2516007__:"
   ]
  },
  {
   "cell_type": "code",
   "execution_count": 14,
   "metadata": {
    "scrolled": false
   },
   "outputs": [
    {
     "data": {
      "text/html": [
       "<div>\n",
       "<style>\n",
       "    .dataframe thead tr:only-child th {\n",
       "        text-align: right;\n",
       "    }\n",
       "\n",
       "    .dataframe thead th {\n",
       "        text-align: left;\n",
       "    }\n",
       "\n",
       "    .dataframe tbody tr th {\n",
       "        vertical-align: top;\n",
       "    }\n",
       "</style>\n",
       "<table border=\"1\" class=\"dataframe\">\n",
       "  <thead>\n",
       "    <tr style=\"text-align: right;\">\n",
       "      <th></th>\n",
       "      <th>hotel id</th>\n",
       "      <th>rooms</th>\n",
       "      <th>service</th>\n",
       "      <th>cleanliness</th>\n",
       "      <th>front desk</th>\n",
       "      <th>business service</th>\n",
       "      <th>value</th>\n",
       "      <th>location</th>\n",
       "      <th>city</th>\n",
       "      <th>state</th>\n",
       "      <th>zip code</th>\n",
       "      <th>low price</th>\n",
       "      <th>high price</th>\n",
       "    </tr>\n",
       "    <tr>\n",
       "      <th>hotel name</th>\n",
       "      <th></th>\n",
       "      <th></th>\n",
       "      <th></th>\n",
       "      <th></th>\n",
       "      <th></th>\n",
       "      <th></th>\n",
       "      <th></th>\n",
       "      <th></th>\n",
       "      <th></th>\n",
       "      <th></th>\n",
       "      <th></th>\n",
       "      <th></th>\n",
       "      <th></th>\n",
       "    </tr>\n",
       "  </thead>\n",
       "  <tbody>\n",
       "    <tr>\n",
       "      <th>Hotel Erwin, a Joie de Vivre hotel</th>\n",
       "      <td>81170</td>\n",
       "      <td>3.310160</td>\n",
       "      <td>4.139037</td>\n",
       "      <td>4.064171</td>\n",
       "      <td>0.026738</td>\n",
       "      <td>0.026738</td>\n",
       "      <td>3.823529</td>\n",
       "      <td>3.636364</td>\n",
       "      <td>Los Angeles</td>\n",
       "      <td>CA 90291</td>\n",
       "      <td>90291</td>\n",
       "      <td>$256</td>\n",
       "      <td>$404</td>\n",
       "    </tr>\n",
       "    <tr>\n",
       "      <th>Hotel Erwin, a Joie de Vivre hotel</th>\n",
       "      <td>2516007</td>\n",
       "      <td>3.348485</td>\n",
       "      <td>4.126263</td>\n",
       "      <td>4.065657</td>\n",
       "      <td>0.025253</td>\n",
       "      <td>0.025253</td>\n",
       "      <td>3.818182</td>\n",
       "      <td>3.646465</td>\n",
       "      <td>Los Angeles</td>\n",
       "      <td>CA 90291</td>\n",
       "      <td>90291</td>\n",
       "      <td>$256</td>\n",
       "      <td>$404</td>\n",
       "    </tr>\n",
       "  </tbody>\n",
       "</table>\n",
       "</div>"
      ],
      "text/plain": [
       "                                    hotel id     rooms   service  cleanliness  \\\n",
       "hotel name                                                                      \n",
       "Hotel Erwin, a Joie de Vivre hotel     81170  3.310160  4.139037     4.064171   \n",
       "Hotel Erwin, a Joie de Vivre hotel   2516007  3.348485  4.126263     4.065657   \n",
       "\n",
       "                                    front desk  business service     value  \\\n",
       "hotel name                                                                   \n",
       "Hotel Erwin, a Joie de Vivre hotel    0.026738          0.026738  3.823529   \n",
       "Hotel Erwin, a Joie de Vivre hotel    0.025253          0.025253  3.818182   \n",
       "\n",
       "                                    location         city     state zip code  \\\n",
       "hotel name                                                                     \n",
       "Hotel Erwin, a Joie de Vivre hotel  3.636364  Los Angeles  CA 90291    90291   \n",
       "Hotel Erwin, a Joie de Vivre hotel  3.646465  Los Angeles  CA 90291    90291   \n",
       "\n",
       "                                   low price high price  \n",
       "hotel name                                               \n",
       "Hotel Erwin, a Joie de Vivre hotel      $256       $404  \n",
       "Hotel Erwin, a Joie de Vivre hotel      $256       $404  "
      ]
     },
     "execution_count": 14,
     "metadata": {},
     "output_type": "execute_result"
    }
   ],
   "source": [
    "# uncomment the following if you are running this code for the first time\n",
    "#hotel_ratings.set_index('hotel name', inplace=True)\n",
    "hotel_ratings.loc[\"Hotel Erwin, a Joie de Vivre hotel\"]"
   ]
  },
  {
   "cell_type": "code",
   "execution_count": 15,
   "metadata": {},
   "outputs": [
    {
     "data": {
      "text/plain": [
       "array([[3.34848485, 4.12626263, 4.06565657, 0.02525253, 0.02525253,\n",
       "        3.81818182, 3.64646465]])"
      ]
     },
     "execution_count": 15,
     "metadata": {},
     "output_type": "execute_result"
    }
   ],
   "source": [
    "#hotel_ratings.reset_index('hotel id', inplace=True)\n",
    "hotel_ratings[hotel_ratings['hotel id'] == 2516007]\n",
    "test_hotel = hotel_ratings[hotel_ratings['hotel id'] == 2516007][['rooms','service', 'cleanliness', 'front desk', 'business service', \n",
    "                                                                'value', 'location']].as_matrix()\n",
    "test_hotel"
   ]
  },
  {
   "cell_type": "markdown",
   "metadata": {},
   "source": [
    "To find the most similar hotel in the _hotel_ratings_ datafram, we run __kdtree_closest_point__ on our entire __kdtree__, with the __test_hotel__ array as input."
   ]
  },
  {
   "cell_type": "code",
   "execution_count": 16,
   "metadata": {},
   "outputs": [
    {
     "name": "stdout",
     "output_type": "stream",
     "text": [
      "CPU times: user 5 µs, sys: 0 ns, total: 5 µs\n",
      "Wall time: 10 µs\n"
     ]
    },
    {
     "data": {
      "text/plain": [
       "array([3.34848485, 4.12626263, 4.06565657, 0.02525253, 0.02525253,\n",
       "       3.81818182, 3.64646465])"
      ]
     },
     "execution_count": 16,
     "metadata": {},
     "output_type": "execute_result"
    }
   ],
   "source": [
    "rec_hotel = kdtree_closest_point(kdtree, test_hotel[0])\n",
    "%time rec_hotel"
   ]
  },
  {
   "cell_type": "code",
   "execution_count": 17,
   "metadata": {
    "collapsed": true
   },
   "outputs": [],
   "source": [
    "recommend = np.argwhere(training_points == rec_hotel)\n",
    "favorite = np.argwhere(test_points == test_hotel)"
   ]
  },
  {
   "cell_type": "code",
   "execution_count": 18,
   "metadata": {},
   "outputs": [
    {
     "data": {
      "text/plain": [
       "hotel id                2516007\n",
       "rooms                   3.34848\n",
       "service                 4.12626\n",
       "cleanliness             4.06566\n",
       "front desk            0.0252525\n",
       "business service      0.0252525\n",
       "value                   3.81818\n",
       "location                3.64646\n",
       "city                Los Angeles\n",
       "state                  CA 90291\n",
       "zip code                  90291\n",
       "low price                  $256\n",
       "high price                 $404\n",
       "Name: Hotel Erwin, a Joie de Vivre hotel, dtype: object"
      ]
     },
     "execution_count": 18,
     "metadata": {},
     "output_type": "execute_result"
    }
   ],
   "source": [
    "hotel_ratings.iloc[recommend[0][0]]"
   ]
  },
  {
   "cell_type": "code",
   "execution_count": 19,
   "metadata": {},
   "outputs": [
    {
     "name": "stdout",
     "output_type": "stream",
     "text": [
      "Recommended hotel with hotel id 2516007\n"
     ]
    }
   ],
   "source": [
    "print ('Recommended hotel with hotel id {}'.format(hotel_ratings.iloc[recommend[0][0]]['hotel id'].astype(int)))"
   ]
  },
  {
   "cell_type": "code",
   "execution_count": 21,
   "metadata": {
    "scrolled": true
   },
   "outputs": [
    {
     "data": {
      "text/html": [
       "<div>\n",
       "<style>\n",
       "    .dataframe thead tr:only-child th {\n",
       "        text-align: right;\n",
       "    }\n",
       "\n",
       "    .dataframe thead th {\n",
       "        text-align: left;\n",
       "    }\n",
       "\n",
       "    .dataframe tbody tr th {\n",
       "        vertical-align: top;\n",
       "    }\n",
       "</style>\n",
       "<table border=\"1\" class=\"dataframe\">\n",
       "  <thead>\n",
       "    <tr style=\"text-align: right;\">\n",
       "      <th></th>\n",
       "      <th>rooms</th>\n",
       "      <th>service</th>\n",
       "      <th>cleanliness</th>\n",
       "      <th>front desk</th>\n",
       "      <th>business service</th>\n",
       "      <th>value</th>\n",
       "      <th>location</th>\n",
       "    </tr>\n",
       "    <tr>\n",
       "      <th>hotel name</th>\n",
       "      <th></th>\n",
       "      <th></th>\n",
       "      <th></th>\n",
       "      <th></th>\n",
       "      <th></th>\n",
       "      <th></th>\n",
       "      <th></th>\n",
       "    </tr>\n",
       "  </thead>\n",
       "  <tbody>\n",
       "    <tr>\n",
       "      <th>Hotel Gansevoort</th>\n",
       "      <td>3.419825</td>\n",
       "      <td>3.344023</td>\n",
       "      <td>3.795918</td>\n",
       "      <td>1.046647</td>\n",
       "      <td>0.676385</td>\n",
       "      <td>3.058309</td>\n",
       "      <td>3.612245</td>\n",
       "    </tr>\n",
       "  </tbody>\n",
       "</table>\n",
       "</div>"
      ],
      "text/plain": [
       "                     rooms   service  cleanliness  front desk  \\\n",
       "hotel name                                                      \n",
       "Hotel Gansevoort  3.419825  3.344023     3.795918    1.046647   \n",
       "\n",
       "                  business service     value  location  \n",
       "hotel name                                              \n",
       "Hotel Gansevoort          0.676385  3.058309  3.612245  "
      ]
     },
     "execution_count": 21,
     "metadata": {},
     "output_type": "execute_result"
    }
   ],
   "source": [
    "rec_hotel = hotel_ratings[hotel_ratings['hotel id'] == 2514393][['rooms', 'service', 'cleanliness', 'front desk', 'business service', 'value', 'location']]\n",
    "rec_hotel"
   ]
  },
  {
   "cell_type": "markdown",
   "metadata": {},
   "source": [
    "We evaluate this recommendation by calculating the RMSE (the Root Mean Squared Error) to see how far off our recommended hotel's rating structure is from our favorite."
   ]
  },
  {
   "cell_type": "code",
   "execution_count": 22,
   "metadata": {
    "collapsed": true
   },
   "outputs": [],
   "source": [
    "def rmse(rec, test):\n",
    "    return np.sqrt(np.linalg.norm((rec - test))/7.0)"
   ]
  },
  {
   "cell_type": "code",
   "execution_count": 23,
   "metadata": {},
   "outputs": [
    {
     "data": {
      "text/plain": [
       "0.4860846722988549"
      ]
     },
     "execution_count": 23,
     "metadata": {},
     "output_type": "execute_result"
    }
   ],
   "source": [
    "rmse(rec_hotel, test_hotel)"
   ]
  },
  {
   "cell_type": "markdown",
   "metadata": {
    "collapsed": true
   },
   "source": [
    "<img src='../img/radar.png' style=\"float: right; height: 400px;\" alt=\"Drawing\">\n",
    "From over thousands of hotels, we have found a hotel (__Hotel Gansevoort__) that has been rate as highly on _value_, _cleanliness_, and _location_ almost same as our _favorite_ hotel, __Hotel Erwin, a Joie de Vivre hotel__. It took us only 10 microseconds wall time, instead of possibly hours of waiting for pairwise computation of similarities. Pairwise computing also eats up most of pc's memory and will cause memory error in python kernels.\n",
    "\n",
    "__Next Steps__:\n",
    "1. Use heapmax to get k nearest neighbors, say, 5 most similar hotels based on the 7 dimensions.\n",
    "2. Optimize hyper-parameter k by running grid search and cross validation, evaluated by RMSE.\n",
    "3. Can run this on subsets of hotels that are in the same zipcode."
   ]
  }
 ],
 "metadata": {
  "kernelspec": {
   "display_name": "Python 2",
   "language": "python",
   "name": "python2"
  },
  "language_info": {
   "codemirror_mode": {
    "name": "ipython",
    "version": 2
   },
   "file_extension": ".py",
   "mimetype": "text/x-python",
   "name": "python",
   "nbconvert_exporter": "python",
   "pygments_lexer": "ipython2",
   "version": "2.7.14"
  }
 },
 "nbformat": 4,
 "nbformat_minor": 2
}
